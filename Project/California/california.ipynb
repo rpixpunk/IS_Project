{
  "cells": [
    {
      "cell_type": "markdown",
      "metadata": {
        "id": "36ROvoWlRdiY"
      },
      "source": [
        "# Standard imports"
      ]
    },
    {
      "cell_type": "code",
      "execution_count": null,
      "metadata": {
        "id": "NEap-HeiIAZB"
      },
      "outputs": [],
      "source": [
        "import pandas as pd\n",
        "import numpy as np\n",
        "from sklearn.preprocessing import StandardScaler\n",
        "from sklearn.decomposition import PCA\n",
        "from sklearn.metrics import mean_squared_error, mean_absolute_error, r2_score\n",
        "from sklearn.model_selection import train_test_split\n",
        "import matplotlib.pyplot as plt\n",
        "from matplotlib import colors\n",
        "from sklearn.linear_model import LinearRegression\n",
        "from sklearn.ensemble import GradientBoostingRegressor\n",
        "from sklearn.ensemble import RandomForestRegressor"
      ]
    },
    {
      "cell_type": "markdown",
      "metadata": {
        "id": "OAD2ekppRiPB"
      },
      "source": [
        "# California Dataset"
      ]
    },
    {
      "cell_type": "markdown",
      "metadata": {
        "id": "uJp9e0REkpSD"
      },
      "source": [
        "## Exploratory Data Analysis"
      ]
    },
    {
      "cell_type": "markdown",
      "metadata": {
        "id": "mQyvzXa6u_8h"
      },
      "source": [
        "### Storing and reading the data"
      ]
    },
    {
      "cell_type": "code",
      "execution_count": null,
      "metadata": {
        "colab": {
          "base_uri": "https://localhost:8080/"
        },
        "id": "eLMHE3TLuEcO",
        "outputId": "b02ed4b8-5fa0-4d91-ea2a-6b7d6a73b015"
      },
      "outputs": [],
      "source": [
        "california_data = pd.read_csv('California_Houses.csv')\n",
        "california_data.head()"
      ]
    },
    {
      "cell_type": "code",
      "execution_count": null,
      "metadata": {
        "colab": {
          "base_uri": "https://localhost:8080/"
        },
        "id": "tzGZrciXM-3N",
        "outputId": "1290f1a9-6e6a-4022-e1ec-1cbb9722e024"
      },
      "outputs": [],
      "source": [
        "california_data.drop(['Latitude', 'Longitude'], axis = 1, inplace=True)\n",
        "california_data.info()"
      ]
    },
    {
      "cell_type": "code",
      "execution_count": null,
      "metadata": {
        "colab": {
          "base_uri": "https://localhost:8080/"
        },
        "id": "a9YAyKoZtibV",
        "outputId": "254f0dd5-fe81-447d-a458-bf7c87936f92"
      },
      "outputs": [],
      "source": [
        "california_data.describe().transpose()"
      ]
    },
    {
      "cell_type": "code",
      "execution_count": null,
      "metadata": {
        "colab": {
          "base_uri": "https://localhost:8080/"
        },
        "id": "OCyU1WO5tvYS",
        "outputId": "e9be572a-abd3-492f-c0ce-737f4171fdd9"
      },
      "outputs": [],
      "source": [
        "california_data.corr()"
      ]
    },
    {
      "cell_type": "code",
      "execution_count": null,
      "metadata": {},
      "outputs": [],
      "source": [
        "california_data.isnull().sum()"
      ]
    },
    {
      "cell_type": "markdown",
      "metadata": {
        "id": "BQP2bplI933A"
      },
      "source": [
        "### Representing initial data"
      ]
    },
    {
      "cell_type": "code",
      "execution_count": null,
      "metadata": {
        "colab": {
          "base_uri": "https://localhost:8080/"
        },
        "id": "lzddOOfb-vRk",
        "outputId": "89fdd23d-a90b-4095-963a-3229ed992aca"
      },
      "outputs": [],
      "source": [
        "for feature in california_data:\n",
        "    if feature != 'Median_House_Value':\n",
        "        plt.figure(figsize=(5, 4));\n",
        "        plt.scatter(california_data[feature], california_data['Median_House_Value']);\n",
        "        plt.ylabel('Median_House_Value');\n",
        "        plt.xlabel(feature);\n",
        "    plt.show();"
      ]
    },
    {
      "cell_type": "markdown",
      "metadata": {
        "id": "tu56x0CButwQ"
      },
      "source": [
        "### Separating the data into two separate tables to show the target column"
      ]
    },
    {
      "cell_type": "code",
      "execution_count": null,
      "metadata": {
        "id": "KAWPZNJfurud"
      },
      "outputs": [],
      "source": [
        "X_california = california_data.drop('Median_House_Value', axis=1)\n",
        "y_california = california_data['Median_House_Value']"
      ]
    },
    {
      "cell_type": "markdown",
      "metadata": {},
      "source": [
        "## Feature Scaling and PCA"
      ]
    },
    {
      "cell_type": "code",
      "execution_count": null,
      "metadata": {},
      "outputs": [],
      "source": [
        "X_california = StandardScaler().fit_transform(X_california)\n",
        "pca = PCA(n_components=None)\n",
        "\n",
        "X_pca = pca.fit_transform(X_california)\n",
        "\n",
        "explained_variance = pca.explained_variance_ratio_\n",
        "print(explained_variance)\n",
        "\n",
        "pca = PCA(n_components=5)\n",
        "X_pca = pca.fit_transform(X_california)\n",
        "explained_variance = pca.explained_variance_ratio_\n",
        "print(sum(explained_variance))"
      ]
    },
    {
      "cell_type": "markdown",
      "metadata": {
        "id": "NapnNyUKwBWU"
      },
      "source": [
        "### Testing and Training the data"
      ]
    },
    {
      "cell_type": "code",
      "execution_count": null,
      "metadata": {
        "colab": {
          "base_uri": "https://localhost:8080/"
        },
        "id": "yTa90xtdvk9H",
        "outputId": "233e29c6-0df0-4be2-a368-0f9568782fe9"
      },
      "outputs": [],
      "source": [
        "X_train, X_test, y_train, y_test = train_test_split(X_pca, y_california, test_size=0.2, random_state=20)\n",
        "print('Training Shape: ',X_train.shape)\n",
        "print('Testing  Shape: ',X_test.shape)"
      ]
    },
    {
      "cell_type": "markdown",
      "metadata": {},
      "source": [
        "## Evaluation Score Function"
      ]
    },
    {
      "cell_type": "code",
      "execution_count": null,
      "metadata": {},
      "outputs": [],
      "source": [
        "def eval(y_test, predictions, results=[]):\n",
        "    mae = mean_absolute_error(y_test, predictions)\n",
        "    mse = mean_squared_error(y_test, predictions)\n",
        "    rmse = np.sqrt(mse)\n",
        "    r2 = r2_score(y_test, predictions)\n",
        "    results = [mae, rmse, r2]\n",
        "    print(\"Mean Absolute Error: \", round(mae, 5))\n",
        "    print(\"Root Mean Squared Error: \", round(rmse, 5))\n",
        "    print(\"R-squared (R2) Score:\", round(r2, 5))\n",
        "    return results"
      ]
    },
    {
      "cell_type": "markdown",
      "metadata": {
        "id": "270Dp2D_zDUW"
      },
      "source": [
        "## Performing Linear Regression"
      ]
    },
    {
      "cell_type": "markdown",
      "metadata": {
        "id": "C1DTDPORjgcc"
      },
      "source": [
        "### Model fitting and predictions"
      ]
    },
    {
      "cell_type": "code",
      "execution_count": null,
      "metadata": {
        "id": "1uKfXKX8xPRG"
      },
      "outputs": [],
      "source": [
        "model = LinearRegression()\n",
        "model.fit(X_train, y_train)\n",
        "\n",
        "predictions = model.predict(X_test)\n",
        "train_score = model.score(X_train, y_train)\n",
        "test_score = model.score(X_test, y_test)\n",
        "print(\"Training R^2 Score:\", train_score)\n",
        "print(\"Testing R^2 Score:\", test_score)"
      ]
    },
    {
      "cell_type": "markdown",
      "metadata": {
        "id": "0ZQWr645jrAX"
      },
      "source": [
        "### Data representation"
      ]
    },
    {
      "cell_type": "code",
      "execution_count": null,
      "metadata": {
        "colab": {
          "base_uri": "https://localhost:8080/"
        },
        "id": "6sgJOJWL0YkS",
        "outputId": "e5383cc0-b2d1-466f-8733-463118ae520d"
      },
      "outputs": [],
      "source": [
        "plt.figure(figsize=(8, 5));\n",
        "plt.scatter(y_test,predictions)\n",
        "plt.xlabel(\"Actual Prices\")\n",
        "plt.ylabel(\"Predicted Prices\")\n",
        "plt.title(\"Actual Prices vs Predicted Prices ($1000's)\")\n",
        "m, b = np.polyfit(y_test, predictions, 1)\n",
        "plt.plot(y_test, m*y_test + b, color='red')\n",
        "plt.show()"
      ]
    },
    {
      "cell_type": "code",
      "execution_count": null,
      "metadata": {
        "colab": {
          "base_uri": "https://localhost:8080/"
        },
        "id": "jtbG0NO7CNYf",
        "outputId": "fa98ddf1-8354-4857-bcb5-58c1992db117"
      },
      "outputs": [],
      "source": [
        "result = pd.DataFrame({'Actual': y_test, 'Predicted': predictions})\n",
        "result = result.head(15)\n",
        "result.plot(kind='bar')\n",
        "plt.xlabel(\"Data Index\")\n",
        "plt.ylabel(\"Median_House_Value\")"
      ]
    },
    {
      "cell_type": "markdown",
      "metadata": {
        "id": "b7E3HUmZyQp5"
      },
      "source": [
        "### Model Evaluation"
      ]
    },
    {
      "cell_type": "code",
      "execution_count": null,
      "metadata": {
        "colab": {
          "base_uri": "https://localhost:8080/"
        },
        "id": "AcYb2lEox7Tp",
        "outputId": "8032286d-4527-46b0-bc5b-92b2eb76bbfc"
      },
      "outputs": [],
      "source": [
        "results = []\n",
        "lm = eval(y_test, predictions, results)"
      ]
    },
    {
      "cell_type": "markdown",
      "metadata": {
        "id": "3gieTmNadePJ"
      },
      "source": [
        "## Performing Random Forest"
      ]
    },
    {
      "cell_type": "markdown",
      "metadata": {
        "id": "UBb7a3Xaj7bM"
      },
      "source": [
        "### Model fitting and predictions"
      ]
    },
    {
      "cell_type": "code",
      "execution_count": null,
      "metadata": {
        "id": "_JUIt_DndcEQ"
      },
      "outputs": [],
      "source": [
        "model = RandomForestRegressor()\n",
        "model.fit(X_train, y_train)\n",
        "\n",
        "predictions = model.predict(X_test)\n",
        "train_score = model.score(X_train, y_train)\n",
        "test_score = model.score(X_test, y_test)\n",
        "print(\"Training R^2 Score:\", train_score)\n",
        "print(\"Testing R^2 Score:\", test_score)"
      ]
    },
    {
      "cell_type": "markdown",
      "metadata": {
        "id": "4-F_oJd-j_Xf"
      },
      "source": [
        "### Data representation"
      ]
    },
    {
      "cell_type": "code",
      "execution_count": null,
      "metadata": {
        "colab": {
          "base_uri": "https://localhost:8080/"
        },
        "id": "lb9BsQK_iQcx",
        "outputId": "c1b9940c-cb3d-459a-baef-1794a05f9fba"
      },
      "outputs": [],
      "source": [
        "plt.figure(figsize=(8, 5));\n",
        "plt.scatter(y_test,predictions)\n",
        "plt.xlabel(\"Actual Prices\")\n",
        "plt.ylabel(\"Predicted Prices\")\n",
        "plt.title(\"Actual Prices vs Predicted Prices ($1000's)\")\n",
        "m, b = np.polyfit(y_test, predictions, 1)\n",
        "plt.plot(y_test, m*y_test + b)\n",
        "plt.show()"
      ]
    },
    {
      "cell_type": "code",
      "execution_count": null,
      "metadata": {
        "colab": {
          "base_uri": "https://localhost:8080/"
        },
        "id": "N5izAm7Hmg-t",
        "outputId": "f03677d7-890c-490c-97d8-2fb71de724a9"
      },
      "outputs": [],
      "source": [
        "result = pd.DataFrame({'Actual': y_test, 'Predicted': predictions})\n",
        "result = result.head(15)\n",
        "result.plot(kind='bar')\n",
        "plt.xlabel(\"Data Index\")\n",
        "plt.ylabel(\"Median_House_Value\")"
      ]
    },
    {
      "cell_type": "markdown",
      "metadata": {
        "id": "ZCu_FHtbkF4n"
      },
      "source": [
        "### Model Evaluation"
      ]
    },
    {
      "cell_type": "code",
      "execution_count": null,
      "metadata": {
        "colab": {
          "base_uri": "https://localhost:8080/"
        },
        "id": "AvEBDwRCkMtk",
        "outputId": "7029fa53-2b25-4ebe-b9b8-7996d86bfaae"
      },
      "outputs": [],
      "source": [
        "rfr = eval(y_test, predictions, results)"
      ]
    },
    {
      "cell_type": "markdown",
      "metadata": {
        "id": "qFZ2kxj-kUWA"
      },
      "source": [
        "We observed a lower RMSE using Random Forest Regressor"
      ]
    },
    {
      "cell_type": "markdown",
      "metadata": {
        "id": "ldwfiQTllmzi"
      },
      "source": [
        "## Performing Gradient Boost"
      ]
    },
    {
      "cell_type": "markdown",
      "metadata": {
        "id": "XNxoFx-BmOWD"
      },
      "source": [
        "### Model fitting and predictions"
      ]
    },
    {
      "cell_type": "code",
      "execution_count": null,
      "metadata": {
        "id": "jQFuL34nlzFe"
      },
      "outputs": [],
      "source": [
        "model = GradientBoostingRegressor()\n",
        "model.fit(X_train, y_train)\n",
        "\n",
        "predictions = model.predict(X_test)\n",
        "train_score = model.score(X_train, y_train)\n",
        "test_score = model.score(X_test, y_test)\n",
        "print(\"Training R^2 Score:\", train_score)\n",
        "print(\"Testing R^2 Score:\", test_score)"
      ]
    },
    {
      "cell_type": "markdown",
      "metadata": {
        "id": "V6kv425lmSHY"
      },
      "source": [
        "### Data representation"
      ]
    },
    {
      "cell_type": "code",
      "execution_count": null,
      "metadata": {
        "colab": {
          "base_uri": "https://localhost:8080/"
        },
        "id": "LUEqywVZmBk8",
        "outputId": "5392aa91-3189-4a23-c0c0-8ba874212e6b"
      },
      "outputs": [],
      "source": [
        "plt.figure(figsize=(8, 5));\n",
        "plt.scatter(y_test,predictions)\n",
        "plt.xlabel(\"Actual Prices\")\n",
        "plt.ylabel(\"Predicted Prices\")\n",
        "plt.title(\"Actual Prices vs Predicted Prices ($1000's)\")\n",
        "m, b = np.polyfit(y_test, predictions, 1)\n",
        "plt.plot(y_test, m*y_test + b)\n",
        "plt.show()"
      ]
    },
    {
      "cell_type": "code",
      "execution_count": null,
      "metadata": {
        "colab": {
          "base_uri": "https://localhost:8080/"
        },
        "id": "tB6uuDGCmNGQ",
        "outputId": "e0e7724e-4bf6-4430-c560-3cababd8fe71"
      },
      "outputs": [],
      "source": [
        "result = pd.DataFrame({'Actual': y_test, 'Predicted': predictions})\n",
        "result = result.head(15)\n",
        "result.plot(kind='bar')\n",
        "plt.xlabel(\"Data Index\")\n",
        "plt.ylabel(\"Median_House_Value\")"
      ]
    },
    {
      "cell_type": "markdown",
      "metadata": {
        "id": "p4UtAHYxmWlX"
      },
      "source": [
        "### Calculating Mean Squared Error and Root Mean Squared Error"
      ]
    },
    {
      "cell_type": "code",
      "execution_count": null,
      "metadata": {
        "colab": {
          "base_uri": "https://localhost:8080/"
        },
        "id": "TPddnhrkmClF",
        "outputId": "afa625bd-af1b-4b5a-a5d8-6515ad3bd70e"
      },
      "outputs": [],
      "source": [
        "gbr = eval(y_test, predictions, results)"
      ]
    },
    {
      "cell_type": "markdown",
      "metadata": {
        "id": "C6FS1klPqPfz"
      },
      "source": [
        "We observed an even lower RMSE using Gradient Boost"
      ]
    },
    {
      "cell_type": "markdown",
      "metadata": {},
      "source": [
        "## Dealing with Outliers"
      ]
    },
    {
      "cell_type": "markdown",
      "metadata": {},
      "source": [
        "### IQR Method"
      ]
    },
    {
      "cell_type": "code",
      "execution_count": null,
      "metadata": {},
      "outputs": [],
      "source": [
        "column_names = [\"Median_House_Value\", \"Median_Income\", \"Median_Age\", \"Tot_Rooms\", \n",
        "                \"Tot_Bedrooms\", \"Population\", \"Households\",  \"Distance_to_coast\", \n",
        "                \"Distance_to_LA\", \"Distance_to_SanDiego\", \"Distance_to_SanJose\", \n",
        "                \"Distance_to_SanFrancisco\"]"
      ]
    },
    {
      "cell_type": "code",
      "execution_count": null,
      "metadata": {},
      "outputs": [],
      "source": [
        "Q1 = california_data[column_names].quantile(0.25)\n",
        "Q3 = california_data[column_names].quantile(0.75)\n",
        "\n",
        "IQR = Q3 - Q1\n",
        "lower_bound = Q1 - 1.5 * IQR\n",
        "upper_bound = Q3 + 1.5 * IQR\n",
        "\n",
        "outliers = (california_data[column_names] < lower_bound) | (california_data[column_names] > upper_bound)\n",
        "california_data_no_outliers = california_data[~outliers.any(axis=1)]\n",
        "print(california_data_no_outliers.shape)"
      ]
    },
    {
      "cell_type": "code",
      "execution_count": null,
      "metadata": {},
      "outputs": [],
      "source": [
        "X_california = california_data_no_outliers.drop('Median_House_Value', axis=1)\n",
        "y_california = california_data_no_outliers['Median_House_Value']"
      ]
    },
    {
      "cell_type": "code",
      "execution_count": null,
      "metadata": {},
      "outputs": [],
      "source": [
        "X_california = StandardScaler().fit_transform(X_california)\n",
        "pca = PCA(n_components=None)\n",
        "\n",
        "X_pca = pca.fit_transform(X_california)\n",
        "\n",
        "explained_variance = pca.explained_variance_ratio_\n",
        "print(explained_variance)\n",
        "\n",
        "pca = PCA(n_components=5)\n",
        "X_pca = pca.fit_transform(X_california)\n",
        "explained_variance = pca.explained_variance_ratio_\n",
        "print(sum(explained_variance))"
      ]
    },
    {
      "cell_type": "code",
      "execution_count": null,
      "metadata": {},
      "outputs": [],
      "source": [
        "X_train, X_test, y_train, y_test = train_test_split(X_pca, y_california, test_size=0.2, random_state=20)\n",
        "print('Training Shape: ',X_train.shape)\n",
        "print('Testing  Shape: ',X_test.shape)"
      ]
    },
    {
      "cell_type": "code",
      "execution_count": null,
      "metadata": {},
      "outputs": [],
      "source": [
        "model = LinearRegression()\n",
        "model.fit(X_train, y_train)\n",
        "\n",
        "predictions = model.predict(X_test)\n",
        "train_score = model.score(X_train, y_train)\n",
        "test_score = model.score(X_test, y_test)\n",
        "\n",
        "lm_iqr = eval(y_test, predictions, results)"
      ]
    },
    {
      "cell_type": "code",
      "execution_count": null,
      "metadata": {},
      "outputs": [],
      "source": [
        "model = RandomForestRegressor()\n",
        "model.fit(X_train, y_train)\n",
        "\n",
        "predictions = model.predict(X_test)\n",
        "train_score = model.score(X_train, y_train)\n",
        "test_score = model.score(X_test, y_test)\n",
        "\n",
        "rfr_iqr = eval(y_test, predictions, results)"
      ]
    },
    {
      "cell_type": "code",
      "execution_count": null,
      "metadata": {},
      "outputs": [],
      "source": [
        "model = GradientBoostingRegressor()\n",
        "model.fit(X_train, y_train)\n",
        "\n",
        "predictions = model.predict(X_test)\n",
        "train_score = model.score(X_train, y_train)\n",
        "test_score = model.score(X_test, y_test)\n",
        "\n",
        "gbr_iqr = eval(y_test, predictions, results)"
      ]
    },
    {
      "cell_type": "markdown",
      "metadata": {},
      "source": [
        "### Outlier Capping Method"
      ]
    },
    {
      "cell_type": "code",
      "execution_count": null,
      "metadata": {},
      "outputs": [],
      "source": [
        "california_data_no_outliers = california_data.copy()\n",
        "for col in column_names:\n",
        "    california_data_no_outliers[col] = california_data[col].clip(lower_bound[col], upper_bound[col])\n",
        "print(california_data_no_outliers.shape)"
      ]
    },
    {
      "cell_type": "code",
      "execution_count": null,
      "metadata": {},
      "outputs": [],
      "source": [
        "X_california = california_data_no_outliers.drop('Median_House_Value', axis=1)\n",
        "y_california = california_data_no_outliers['Median_House_Value']"
      ]
    },
    {
      "cell_type": "code",
      "execution_count": null,
      "metadata": {},
      "outputs": [],
      "source": [
        "X_california = StandardScaler().fit_transform(X_california)\n",
        "pca = PCA(n_components=None)\n",
        "\n",
        "X_pca = pca.fit_transform(X_california)\n",
        "\n",
        "explained_variance = pca.explained_variance_ratio_\n",
        "print(explained_variance)\n",
        "\n",
        "pca = PCA(n_components=5)\n",
        "X_pca = pca.fit_transform(X_california)\n",
        "explained_variance = pca.explained_variance_ratio_\n",
        "print(sum(explained_variance))"
      ]
    },
    {
      "cell_type": "code",
      "execution_count": null,
      "metadata": {},
      "outputs": [],
      "source": [
        "X_train, X_test, y_train, y_test = train_test_split(X_pca, y_california, test_size=0.2, random_state=20)\n",
        "print('Training Shape: ',X_train.shape)\n",
        "print('Testing  Shape: ',X_test.shape)"
      ]
    },
    {
      "cell_type": "code",
      "execution_count": null,
      "metadata": {},
      "outputs": [],
      "source": [
        "model = LinearRegression()\n",
        "model.fit(X_train, y_train)\n",
        "\n",
        "predictions = model.predict(X_test)\n",
        "train_score = model.score(X_train, y_train)\n",
        "test_score = model.score(X_test, y_test)\n",
        "\n",
        "lm_cap = eval(y_test, predictions, results)"
      ]
    },
    {
      "cell_type": "code",
      "execution_count": null,
      "metadata": {},
      "outputs": [],
      "source": [
        "model = RandomForestRegressor()\n",
        "model.fit(X_train, y_train)\n",
        "\n",
        "predictions = model.predict(X_test)\n",
        "train_score = model.score(X_train, y_train)\n",
        "test_score = model.score(X_test, y_test)\n",
        "\n",
        "rfr_cap = eval(y_test, predictions, results)"
      ]
    },
    {
      "cell_type": "code",
      "execution_count": null,
      "metadata": {},
      "outputs": [],
      "source": [
        "model = GradientBoostingRegressor()\n",
        "model.fit(X_train, y_train)\n",
        "\n",
        "predictions = model.predict(X_test)\n",
        "train_score = model.score(X_train, y_train)\n",
        "test_score = model.score(X_test, y_test)\n",
        "\n",
        "gbr_cap = eval(y_test, predictions, results)"
      ]
    },
    {
      "cell_type": "markdown",
      "metadata": {},
      "source": [
        "### Z Score Method"
      ]
    },
    {
      "cell_type": "code",
      "execution_count": null,
      "metadata": {},
      "outputs": [],
      "source": [
        "california_data_no_outliers = california_data.copy()\n",
        "z_scores = (california_data[column_names] - california_data[column_names].mean()) / california_data[column_names].std()\n",
        "\n",
        "threshold = 3\n",
        "outliers = (z_scores > threshold) | (z_scores < -threshold)\n",
        "\n",
        "california_data_no_outliers = california_data[~outliers.any(axis=1)]\n",
        "print(california_data_no_outliers.shape)"
      ]
    },
    {
      "cell_type": "code",
      "execution_count": null,
      "metadata": {},
      "outputs": [],
      "source": [
        "X_california = california_data_no_outliers.drop('Median_House_Value', axis=1)\n",
        "y_california = california_data_no_outliers['Median_House_Value']"
      ]
    },
    {
      "cell_type": "code",
      "execution_count": null,
      "metadata": {},
      "outputs": [],
      "source": [
        "X_california = StandardScaler().fit_transform(X_california)\n",
        "pca = PCA(n_components=None)\n",
        "\n",
        "X_pca = pca.fit_transform(X_california)\n",
        "\n",
        "explained_variance = pca.explained_variance_ratio_\n",
        "print(explained_variance)\n",
        "\n",
        "pca = PCA(n_components=5)\n",
        "X_pca = pca.fit_transform(X_california)\n",
        "explained_variance = pca.explained_variance_ratio_\n",
        "print(sum(explained_variance))"
      ]
    },
    {
      "cell_type": "code",
      "execution_count": null,
      "metadata": {},
      "outputs": [],
      "source": [
        "X_train, X_test, y_train, y_test = train_test_split(X_pca, y_california, test_size=0.2, random_state=20)\n",
        "print('Training Shape: ',X_train.shape)\n",
        "print('Testing  Shape: ',X_test.shape)"
      ]
    },
    {
      "cell_type": "code",
      "execution_count": null,
      "metadata": {},
      "outputs": [],
      "source": [
        "model = LinearRegression()\n",
        "model.fit(X_train, y_train)\n",
        "\n",
        "predictions = model.predict(X_test)\n",
        "train_score = model.score(X_train, y_train)\n",
        "test_score = model.score(X_test, y_test)\n",
        "\n",
        "lm_z = eval(y_test, predictions, results)"
      ]
    },
    {
      "cell_type": "code",
      "execution_count": null,
      "metadata": {},
      "outputs": [],
      "source": [
        "model = RandomForestRegressor()\n",
        "model.fit(X_train, y_train)\n",
        "\n",
        "predictions = model.predict(X_test)\n",
        "train_score = model.score(X_train, y_train)\n",
        "test_score = model.score(X_test, y_test)\n",
        "\n",
        "rfr_z = eval(y_test, predictions, results)"
      ]
    },
    {
      "cell_type": "code",
      "execution_count": null,
      "metadata": {},
      "outputs": [],
      "source": [
        "model = GradientBoostingRegressor()\n",
        "model.fit(X_train, y_train)\n",
        "\n",
        "predictions = model.predict(X_test)\n",
        "train_score = model.score(X_train, y_train)\n",
        "test_score = model.score(X_test, y_test)\n",
        "\n",
        "gbr_z = eval(y_test, predictions, results)"
      ]
    },
    {
      "cell_type": "markdown",
      "metadata": {},
      "source": [
        "## Hyperparameter Tuning"
      ]
    },
    {
      "cell_type": "code",
      "execution_count": null,
      "metadata": {},
      "outputs": [],
      "source": []
    },
    {
      "cell_type": "markdown",
      "metadata": {},
      "source": [
        "## Summary"
      ]
    },
    {
      "cell_type": "code",
      "execution_count": null,
      "metadata": {},
      "outputs": [],
      "source": [
        "model_metrics_dict = {\n",
        "    'Linear': lm,\n",
        "    'Random Forest': rfr,\n",
        "    'Gradient Boost': gbr,\n",
        "    'Linear(IQR)': lm_iqr,\n",
        "    'Random Forest(IQR)': rfr_iqr,\n",
        "    'Gradient Boost(IQR)': gbr_iqr,\n",
        "    'Linear(Cap)': lm_cap,\n",
        "    'Random Forest(Cap)': rfr_cap,\n",
        "    'Gradient Boost(Cap)': gbr_cap,\n",
        "    'Linear(Z-Score)': lm_z,\n",
        "    'Random Forest(Z-Score)': rfr_z,\n",
        "    'Gradient Boost(Z-Score)': gbr_z,\n",
        "}\n",
        "\n",
        "model_names = []\n",
        "mae_values = []\n",
        "rmse_values = []\n",
        "r2_values = []\n",
        "\n",
        "for model_name, metrics in model_metrics_dict.items():\n",
        "    model_names.append(model_name)\n",
        "    mae_values.append(metrics[0])\n",
        "    rmse_values.append(metrics[1])\n",
        "    r2_values.append(metrics[2])\n",
        "\n",
        "model_metrics = pd.DataFrame({\n",
        "    'Model': model_names,\n",
        "    'MAE': mae_values,\n",
        "    'RMSE': rmse_values,\n",
        "    'R2': r2_values\n",
        "})\n",
        "\n",
        "print(model_metrics)"
      ]
    }
  ],
  "metadata": {
    "colab": {
      "collapsed_sections": [
        "36ROvoWlRdiY",
        "PD1_2PZzRv5t"
      ],
      "provenance": []
    },
    "kernelspec": {
      "display_name": "Python 3",
      "name": "python3"
    },
    "language_info": {
      "codemirror_mode": {
        "name": "ipython",
        "version": 3
      },
      "file_extension": ".py",
      "mimetype": "text/x-python",
      "name": "python",
      "nbconvert_exporter": "python",
      "pygments_lexer": "ipython3",
      "version": "3.11.5"
    }
  },
  "nbformat": 4,
  "nbformat_minor": 0
}
